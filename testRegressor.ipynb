{
 "cells": [
  {
   "cell_type": "code",
   "execution_count": 1,
   "id": "c5a775a6",
   "metadata": {},
   "outputs": [],
   "source": [
    "import matplotlib.pyplot as plt\n",
    "import numpy as np\n",
    "\n",
    "from river.ensemble.amf import AMFRegressor"
   ]
  },
  {
   "cell_type": "code",
   "execution_count": 2,
   "id": "b84cb63d",
   "metadata": {},
   "outputs": [],
   "source": [
    "from river import stream\n",
    "import numpy as np\n",
    "from sklearn import datasets"
   ]
  },
  {
   "cell_type": "code",
   "execution_count": 3,
   "id": "a3adc52a",
   "metadata": {},
   "outputs": [],
   "source": [
    "X, y = datasets.make_regression(n_samples=500, n_features=1, noise=0.3)\n"
   ]
  },
  {
   "cell_type": "code",
   "execution_count": 4,
   "id": "360f54b9",
   "metadata": {},
   "outputs": [],
   "source": [
    "total_samples = 500  # set the amount of samples to iterate through\n",
    "proportion_training = 0.8  # proportion of training samples\n",
    "\n",
    "train_samples = proportion_training * total_samples  # set the amount of learning samples\n",
    "test_samples = (1 - proportion_training) * total_samples "
   ]
  },
  {
   "cell_type": "code",
   "execution_count": 5,
   "id": "aa2b2348",
   "metadata": {},
   "outputs": [],
   "source": [
    "X_test, y_pred = [], []  # arrays for the plot\n",
    "\n",
    "amf = AMFRegressor(n_estimators=10, step=1.0, use_aggregation=True, seed=None)\n",
    "\n",
    "t = 0\n",
    "for x_t, y_t in stream.iter_array(X, y):\n",
    "    if t < train_samples:\n",
    "        amf.learn_one(x_t, y_t)  # learning sample (x_t, y_t)\n",
    "    else:\n",
    "        pred = amf.predict_one(x_t)\n",
    "        \n",
    "        X_test.append(x_t)\n",
    "        y_pred.append(pred)\n",
    "\n",
    "    t += 1\n",
    "    if t > total_samples:\n",
    "        break"
   ]
  },
  {
   "cell_type": "code",
   "execution_count": 6,
   "id": "b8d1e3d4",
   "metadata": {},
   "outputs": [],
   "source": [
    "X_test_list = []\n",
    "for i in X_test :\n",
    "    X_test_list.append(list(i.values()))"
   ]
  },
  {
   "cell_type": "code",
   "execution_count": 7,
   "id": "422a6fbb",
   "metadata": {},
   "outputs": [
    {
     "data": {
      "text/plain": [
       "<matplotlib.collections.PathCollection at 0x7f7d7c7a07f0>"
      ]
     },
     "execution_count": 7,
     "metadata": {},
     "output_type": "execute_result"
    },
    {
     "data": {
      "image/png": "[encoded data removed]",
      "text/plain": [
       "<Figure size 432x288 with 1 Axes>"
      ]
     },
     "metadata": {
      "needs_background": "light"
     },
     "output_type": "display_data"
    }
   ],
   "source": [
    "X, y = np.array(X), np.array(y)\n",
    "X_test_list, y_pred = np.array(X_test_list), np.array(y_pred)\n",
    "plt.scatter(X,y)\n",
    "plt.scatter(X_test_list,y_pred, color = 'r')"
   ]
  },
  {
   "cell_type": "code",
   "execution_count": null,
   "id": "89c67013",
   "metadata": {},
   "outputs": [],
   "source": []
  },
  {
   "cell_type": "code",
   "execution_count": null,
   "id": "d2192bfc",
   "metadata": {},
   "outputs": [],
   "source": []
  }
 ],
 "metadata": {
  "kernelspec": {
   "display_name": "Python 3 (ipykernel)",
   "language": "python",
   "name": "python3"
  },
  "language_info": {
   "codemirror_mode": {
    "name": "ipython",
    "version": 3
   },
   "file_extension": ".py",
   "mimetype": "text/x-python",
   "name": "python",
   "nbconvert_exporter": "python",
   "pygments_lexer": "ipython3",
   "version": "3.8.10"
  }
 },
 "nbformat": 4,
 "nbformat_minor": 5
}
